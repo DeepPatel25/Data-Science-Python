{
 "cells": [
  {
   "cell_type": "markdown",
   "id": "525a3277",
   "metadata": {},
   "source": [
    "Python Object Oriented Programming"
   ]
  },
  {
   "cell_type": "markdown",
   "id": "bc2da3d8",
   "metadata": {},
   "source": [
    "Classes => Class is a template/blue-print for real-world entities\n",
    "-> Phone Properties(Attributes) - Color, Cost, Battery life\n",
    "-> Phone Behaviour(Methods) - Make calls, Watch videos, Play games"
   ]
  },
  {
   "cell_type": "raw",
   "id": "569a5431",
   "metadata": {},
   "source": [
    "Class is a user defined data type."
   ]
  },
  {
   "cell_type": "raw",
   "id": "29172129",
   "metadata": {},
   "source": [
    "Python Objects -> Objects are specific instances of a class."
   ]
  },
  {
   "cell_type": "code",
   "execution_count": 4,
   "id": "c8423ff1",
   "metadata": {},
   "outputs": [],
   "source": [
    "# The name of a class is always start with a capital letter.\n",
    "# When creating a method in class your first parameter is self.\n",
    "class Phone:\n",
    "    def set_color(self, color):\n",
    "        self.color = color\n",
    "    \n",
    "    def set_cost(self, cost):\n",
    "        self.cost = cost\n",
    "        \n",
    "    def show_color(self):\n",
    "        return self.color\n",
    "    \n",
    "    def show_cost(self):\n",
    "        return self.cost\n",
    "    \n",
    "    def make_call(self):\n",
    "        print('Making Phone call')\n",
    "    \n",
    "    def play_game(self):\n",
    "        print('Playing game')"
   ]
  },
  {
   "cell_type": "code",
   "execution_count": 6,
   "id": "c4dbb81a",
   "metadata": {},
   "outputs": [
    {
     "name": "stdout",
     "output_type": "stream",
     "text": [
      "Making Phone call\n",
      "Playing game\n"
     ]
    }
   ],
   "source": [
    "p1 = Phone() # Creating instance of a Phone class\n",
    "p1.make_call() # Invoking methods through object\n",
    "p1.play_game()"
   ]
  },
  {
   "cell_type": "code",
   "execution_count": 7,
   "id": "3e9c1fb7",
   "metadata": {},
   "outputs": [
    {
     "name": "stdout",
     "output_type": "stream",
     "text": [
      "black 10000\n"
     ]
    }
   ],
   "source": [
    "p1.set_color('black')\n",
    "p1.set_cost(10000)\n",
    "print(p1.show_color(), p1.show_cost())"
   ]
  },
  {
   "cell_type": "code",
   "execution_count": 12,
   "id": "ae124727",
   "metadata": {},
   "outputs": [],
   "source": [
    "# Creating class with constructor\n",
    "class Employee:\n",
    "    # Constructor is used for set data at runtime.\n",
    "    def __init__(self, name, age, salary, gender):\n",
    "        self.name = name\n",
    "        self.age = age\n",
    "        self.salary = salary\n",
    "        self.gender = gender\n",
    "    \n",
    "    def employee_details(self):\n",
    "        print('Name of employee is', self.name)\n",
    "        print('Age of employee is', self.age)\n",
    "        print('Salary of employee is',  self.salary)\n",
    "        print('Gender of employee is', self.gender)"
   ]
  },
  {
   "cell_type": "code",
   "execution_count": 13,
   "id": "1d88e0e5",
   "metadata": {},
   "outputs": [
    {
     "name": "stdout",
     "output_type": "stream",
     "text": [
      "Name of employee is Deep\n",
      "Age of employee is 19\n",
      "Salary of employee is 150000\n",
      "Gender of employee is Male\n"
     ]
    }
   ],
   "source": [
    "e1 = Employee('Deep', 19, 150000, 'Male')\n",
    "e1.employee_details()"
   ]
  }
 ],
 "metadata": {
  "kernelspec": {
   "display_name": "Python 3 (ipykernel)",
   "language": "python",
   "name": "python3"
  },
  "language_info": {
   "codemirror_mode": {
    "name": "ipython",
    "version": 3
   },
   "file_extension": ".py",
   "mimetype": "text/x-python",
   "name": "python",
   "nbconvert_exporter": "python",
   "pygments_lexer": "ipython3",
   "version": "3.9.12"
  }
 },
 "nbformat": 4,
 "nbformat_minor": 5
}
