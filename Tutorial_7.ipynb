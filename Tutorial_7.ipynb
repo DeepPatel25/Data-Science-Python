{
 "cells": [
  {
   "cell_type": "markdown",
   "id": "b73f449a",
   "metadata": {},
   "source": [
    "Libraries in Python -> Python library is a collection of functions that allows you to perform many actions without writing your code.\n",
    "ex. NumPy, matplotlib, Pandas"
   ]
  },
  {
   "cell_type": "raw",
   "id": "e77e0e83",
   "metadata": {},
   "source": [
    "Python Numpy -> NumPy stands for numerical python and is the core library for numeric and scientific computing.\n",
    "-> It consists of multi-dimensional array objects and a collection of routines for processing those arrays."
   ]
  },
  {
   "cell_type": "code",
   "execution_count": 2,
   "id": "c85443f9",
   "metadata": {},
   "outputs": [
    {
     "name": "stdout",
     "output_type": "stream",
     "text": [
      "[10 20 30 40 50]\n",
      "[[1 2 3 4]\n",
      " [5 6 7 8]]\n"
     ]
    }
   ],
   "source": [
    "import numpy as np\n",
    "\n",
    "# Single Dimensional Array\n",
    "n1 = np.array([10,20,30,40,50])\n",
    "print(n1)\n",
    "\n",
    "# Multi Dimensional Array\n",
    "n2 = np.array([[1,2,3,4],[5,6,7,8]])\n",
    "print(n2)"
   ]
  },
  {
   "cell_type": "code",
   "execution_count": 6,
   "id": "4e58b943",
   "metadata": {},
   "outputs": [
    {
     "name": "stdout",
     "output_type": "stream",
     "text": [
      "<class 'numpy.ndarray'> <class 'numpy.ndarray'>\n"
     ]
    }
   ],
   "source": [
    "print(type(n1), type(n2))"
   ]
  },
  {
   "cell_type": "code",
   "execution_count": 9,
   "id": "ef6f4acf",
   "metadata": {},
   "outputs": [
    {
     "name": "stdout",
     "output_type": "stream",
     "text": [
      "[[0. 0.]]\n",
      "[[0. 0. 0. 0. 0.]\n",
      " [0. 0. 0. 0. 0.]\n",
      " [0. 0. 0. 0. 0.]\n",
      " [0. 0. 0. 0. 0.]\n",
      " [0. 0. 0. 0. 0.]]\n"
     ]
    }
   ],
   "source": [
    "# Initializing numpy array with zeros\n",
    "\n",
    "n1 = np.zeros((1,2)) # First Parameter is used for defining the row size and second parameter is used for defining column size.\n",
    "print(n1)\n",
    "\n",
    "n2 = np.zeros((5,5))\n",
    "print(n2)"
   ]
  },
  {
   "cell_type": "code",
   "execution_count": 10,
   "id": "d1d7f6a8",
   "metadata": {},
   "outputs": [
    {
     "name": "stdout",
     "output_type": "stream",
     "text": [
      "[[10 10]\n",
      " [10 10]]\n"
     ]
    }
   ],
   "source": [
    "# Initializing numpy array with same number\n",
    "\n",
    "n1 = np.full((2,2),10) # Full method takes two parameter first one is for dimension and second one is for which number you want the same in array.\n",
    "print(n1)"
   ]
  },
  {
   "cell_type": "code",
   "execution_count": 13,
   "id": "1a1da6ec",
   "metadata": {},
   "outputs": [
    {
     "name": "stdout",
     "output_type": "stream",
     "text": [
      "[10 11 12 13 14 15 16 17 18 19]\n",
      "[10 20 30 40 50 60 70 80 90]\n"
     ]
    }
   ],
   "source": [
    "# Initializing the numpy array within a range.\n",
    "\n",
    "n1 = np.arange(10,20) # array start with 10 number and ends with 19.\n",
    "print(n1)\n",
    "\n",
    "n2 = np.arange(10,100, 10) # Third parameter is used for skip.\n",
    "print(n2)"
   ]
  },
  {
   "cell_type": "code",
   "execution_count": 17,
   "id": "73145850",
   "metadata": {},
   "outputs": [
    {
     "name": "stdout",
     "output_type": "stream",
     "text": [
      "[47  9 71 18 81]\n"
     ]
    }
   ],
   "source": [
    "# Initializing the numpy array with random numbers\n",
    "\n",
    "n1 = np.random.randint(1,100,5) # range 1 to 100 and 5 is used for length of array.\n",
    "print(n1)"
   ]
  },
  {
   "cell_type": "code",
   "execution_count": 23,
   "id": "f4fe377e",
   "metadata": {},
   "outputs": [
    {
     "name": "stdout",
     "output_type": "stream",
     "text": [
      "(2, 3)\n",
      "[[1 2 3]\n",
      " [4 5 6]]\n",
      "(1, 6)\n",
      "[[1 2 3 4 5 6]]\n"
     ]
    }
   ],
   "source": [
    "# Checking the shape of numpy arrays and change it.\n",
    "\n",
    "n1 = np.array([[1,2,3],[4,5,6]])\n",
    "print(n1.shape)\n",
    "print(n1)\n",
    "\n",
    "n1.shape = (1,6)\n",
    "print(n1.shape)\n",
    "print(n1)"
   ]
  },
  {
   "cell_type": "code",
   "execution_count": 33,
   "id": "ffcc0764",
   "metadata": {},
   "outputs": [
    {
     "name": "stdout",
     "output_type": "stream",
     "text": [
      "[[1 2 3]\n",
      " [4 5 6]]\n",
      "[1 2 3 4 5 6]\n",
      "[[1 4]\n",
      " [2 5]\n",
      " [3 6]]\n"
     ]
    }
   ],
   "source": [
    "# Joining numpy arrays\n",
    "\n",
    "n1 = np.array([1,2,3])\n",
    "n2 = np.array([4,5,6])\n",
    "\n",
    "n3 = np.vstack((n1,n2))\n",
    "print(n3)\n",
    "\n",
    "n4 = np.hstack((n1,n2))\n",
    "print(n4)\n",
    "\n",
    "n5 = np.column_stack((n1,n2))\n",
    "print(n5)"
   ]
  },
  {
   "cell_type": "code",
   "execution_count": 36,
   "id": "ec104069",
   "metadata": {},
   "outputs": [
    {
     "name": "stdout",
     "output_type": "stream",
     "text": [
      "[14 15 16]\n",
      "[10 11 12 13]\n",
      "[17 18 19]\n"
     ]
    }
   ],
   "source": [
    "#Numpy Intersection and Difference\n",
    "\n",
    "n1 = np.arange(10,17)\n",
    "n2 = np.arange(14,20)\n",
    "\n",
    "n3 = np.intersect1d(n1,n2)\n",
    "print(n3)\n",
    "\n",
    "n4 = np.setdiff1d(n1,n2)\n",
    "print(n4)\n",
    "\n",
    "n5 = np.setdiff1d(n2,n1)\n",
    "print(n5)"
   ]
  },
  {
   "cell_type": "code",
   "execution_count": 41,
   "id": "dc8af8e4",
   "metadata": {},
   "outputs": [
    {
     "name": "stdout",
     "output_type": "stream",
     "text": [
      "180\n",
      "[40 60 80]\n",
      "[ 60 120]\n"
     ]
    }
   ],
   "source": [
    "# Addition of numpy arrays\n",
    "\n",
    "n1 = np.array([10,20,30])\n",
    "n2 = np.array([30,40,50])\n",
    "\n",
    "print(np.sum([n1,n2]))\n",
    "\n",
    "print(np.sum([n1,n2], axis=0)) # 0 is used for column \n",
    "print(np.sum([n1,n2], axis=1)) # 1 is used for row."
   ]
  },
  {
   "cell_type": "code",
   "execution_count": 42,
   "id": "332e53a8",
   "metadata": {},
   "outputs": [
    {
     "name": "stdout",
     "output_type": "stream",
     "text": [
      "[11 21 31]\n"
     ]
    }
   ],
   "source": [
    "# Basic Mathematics\n",
    "\n",
    "n1 = np.array([10,20,30])\n",
    "n1 += 1\n",
    "print(n1)"
   ]
  },
  {
   "cell_type": "code",
   "execution_count": 43,
   "id": "1e6887d5",
   "metadata": {},
   "outputs": [
    {
     "name": "stdout",
     "output_type": "stream",
     "text": [
      "[20 40 60]\n"
     ]
    }
   ],
   "source": [
    "n1 = np.array([10,20,30])\n",
    "n1 *= 2\n",
    "print(n1)"
   ]
  },
  {
   "cell_type": "code",
   "execution_count": 44,
   "id": "64ce7d1d",
   "metadata": {},
   "outputs": [
    {
     "name": "stdout",
     "output_type": "stream",
     "text": [
      "[ 9 19 29]\n"
     ]
    }
   ],
   "source": [
    "n1 = np.array([10,20,30])\n",
    "n1 -= 1\n",
    "print(n1)"
   ]
  },
  {
   "cell_type": "code",
   "execution_count": 46,
   "id": "c78143eb",
   "metadata": {},
   "outputs": [
    {
     "name": "stdout",
     "output_type": "stream",
     "text": [
      "[2. 4. 6.]\n"
     ]
    }
   ],
   "source": [
    "n1 = np.array([10,20,30])\n",
    "n1 = n1 / 5\n",
    "print(n1)"
   ]
  },
  {
   "cell_type": "code",
   "execution_count": 52,
   "id": "6a30209b",
   "metadata": {},
   "outputs": [
    {
     "name": "stdout",
     "output_type": "stream",
     "text": [
      "[10 20 30 40 50 60] 35.0\n",
      "[39 95 49 40 83 37] 44.5\n",
      "[84 36  5 12 51 93] 33.19345651714439\n"
     ]
    }
   ],
   "source": [
    "# Numpy math functions\n",
    "\n",
    "n1 = np.arange(10,70,10)\n",
    "print(n1, np.mean(n1)) # mean\n",
    "\n",
    "n2 = np.random.randint(1,100,6)\n",
    "print(n2, np.median(n2)) # median\n",
    "\n",
    "n3 = np.random.randint(1,100,6)\n",
    "print(n3, np.std(n3)) # standard deviation"
   ]
  },
  {
   "cell_type": "code",
   "execution_count": 53,
   "id": "6584b25b",
   "metadata": {},
   "outputs": [],
   "source": [
    "# Saving and Loading numpy array\n",
    "\n",
    "n1 = np.array([1,23,4,4,56,7,7])\n",
    "np.save('ex_1',n1)"
   ]
  },
  {
   "cell_type": "code",
   "execution_count": 56,
   "id": "1d318040",
   "metadata": {},
   "outputs": [
    {
     "name": "stdout",
     "output_type": "stream",
     "text": [
      "[ 1 23  4  4 56  7  7]\n"
     ]
    }
   ],
   "source": [
    "n2 = np.load('ex_1.npy')\n",
    "print(n2)"
   ]
  }
 ],
 "metadata": {
  "kernelspec": {
   "display_name": "Python 3 (ipykernel)",
   "language": "python",
   "name": "python3"
  },
  "language_info": {
   "codemirror_mode": {
    "name": "ipython",
    "version": 3
   },
   "file_extension": ".py",
   "mimetype": "text/x-python",
   "name": "python",
   "nbconvert_exporter": "python",
   "pygments_lexer": "ipython3",
   "version": "3.9.12"
  }
 },
 "nbformat": 4,
 "nbformat_minor": 5
}
