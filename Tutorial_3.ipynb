{
 "cells": [
  {
   "cell_type": "raw",
   "id": "04c541b2",
   "metadata": {},
   "source": [
    "If Statement"
   ]
  },
  {
   "cell_type": "code",
   "execution_count": 1,
   "id": "1ffe07a7",
   "metadata": {},
   "outputs": [],
   "source": [
    "a = 10\n",
    "b = 20"
   ]
  },
  {
   "cell_type": "code",
   "execution_count": 3,
   "id": "70b419df",
   "metadata": {},
   "outputs": [],
   "source": [
    "if a > b:\n",
    "    print('B is greater than A')"
   ]
  },
  {
   "cell_type": "code",
   "execution_count": 4,
   "id": "1446ae72",
   "metadata": {},
   "outputs": [
    {
     "name": "stdout",
     "output_type": "stream",
     "text": [
      "B is Greater than A\n"
     ]
    }
   ],
   "source": [
    "if a > b:\n",
    "    print('A is greater than B')\n",
    "else:\n",
    "    print('B is Greater than A')"
   ]
  },
  {
   "cell_type": "code",
   "execution_count": 5,
   "id": "82823933",
   "metadata": {},
   "outputs": [],
   "source": [
    "a = 10\n",
    "b = 20\n",
    "c = 30"
   ]
  },
  {
   "cell_type": "code",
   "execution_count": 6,
   "id": "ccaf366e",
   "metadata": {},
   "outputs": [
    {
     "name": "stdout",
     "output_type": "stream",
     "text": [
      "C is the greatest.\n"
     ]
    }
   ],
   "source": [
    "if (a > b) and (a > c):\n",
    "    print('A is the greatest.')\n",
    "elif (b > c):\n",
    "    print('B is the greatest.')\n",
    "else:\n",
    "    print('C is the greatest.')"
   ]
  },
  {
   "cell_type": "code",
   "execution_count": 7,
   "id": "d44dc832",
   "metadata": {},
   "outputs": [],
   "source": [
    "# If with tuple\n",
    "tup1 = ('a','b','c')"
   ]
  },
  {
   "cell_type": "code",
   "execution_count": 10,
   "id": "7505f020",
   "metadata": {},
   "outputs": [
    {
     "name": "stdout",
     "output_type": "stream",
     "text": [
      "Value z is not present in tup1\n"
     ]
    }
   ],
   "source": [
    "if 'z' in tup1:\n",
    "    print('Value a is present in tup1')\n",
    "else:\n",
    "    print('Value z is not present in tup1')"
   ]
  },
  {
   "cell_type": "code",
   "execution_count": 11,
   "id": "7d64873b",
   "metadata": {},
   "outputs": [],
   "source": [
    "# If with list\n",
    "l1 = ['a','b','c']"
   ]
  },
  {
   "cell_type": "code",
   "execution_count": 12,
   "id": "29de1de5",
   "metadata": {},
   "outputs": [],
   "source": [
    "if l1[1] == 'b':\n",
    "    l1[1] = 'z'"
   ]
  },
  {
   "cell_type": "code",
   "execution_count": 13,
   "id": "eb72c43a",
   "metadata": {},
   "outputs": [
    {
     "name": "stdout",
     "output_type": "stream",
     "text": [
      "['a', 'z', 'c']\n"
     ]
    }
   ],
   "source": [
    "print(l1)"
   ]
  },
  {
   "cell_type": "code",
   "execution_count": 18,
   "id": "794d6654",
   "metadata": {},
   "outputs": [],
   "source": [
    "# If with dictionary\n",
    "d1 = {\n",
    "    'k1': 10,\n",
    "    'k2': 20,\n",
    "    'k3': 30\n",
    "}"
   ]
  },
  {
   "cell_type": "code",
   "execution_count": 19,
   "id": "e8a8a218",
   "metadata": {},
   "outputs": [],
   "source": [
    "if d1['k3'] == 30:\n",
    "    d1['k3'] += 100"
   ]
  },
  {
   "cell_type": "code",
   "execution_count": 20,
   "id": "39526115",
   "metadata": {},
   "outputs": [
    {
     "name": "stdout",
     "output_type": "stream",
     "text": [
      "{'k1': 10, 'k2': 20, 'k3': 130}\n"
     ]
    }
   ],
   "source": [
    "print(d1)"
   ]
  },
  {
   "cell_type": "raw",
   "id": "2f52138b",
   "metadata": {},
   "source": [
    "Looping Statements\n",
    "2 Loops -> For and While"
   ]
  },
  {
   "cell_type": "code",
   "execution_count": 21,
   "id": "2fc0114a",
   "metadata": {},
   "outputs": [
    {
     "name": "stdout",
     "output_type": "stream",
     "text": [
      "1\n",
      "2\n",
      "3\n",
      "4\n",
      "5\n",
      "6\n",
      "7\n",
      "8\n",
      "9\n",
      "10\n"
     ]
    }
   ],
   "source": [
    "i = 1\n",
    "while i <= 10:\n",
    "    print(i)\n",
    "    i+=1"
   ]
  },
  {
   "cell_type": "code",
   "execution_count": 23,
   "id": "217ffbd8",
   "metadata": {},
   "outputs": [
    {
     "name": "stdout",
     "output_type": "stream",
     "text": [
      "2 * 1 = 2\n",
      "2 * 2 = 4\n",
      "2 * 3 = 6\n",
      "2 * 4 = 8\n",
      "2 * 5 = 10\n",
      "2 * 6 = 12\n",
      "2 * 7 = 14\n",
      "2 * 8 = 16\n",
      "2 * 9 = 18\n",
      "2 * 10 = 20\n"
     ]
    }
   ],
   "source": [
    "i = 1\n",
    "n = 2\n",
    "while i<=10:\n",
    "    print(n, '*', i, '=', n*i)\n",
    "    i+=1"
   ]
  },
  {
   "cell_type": "code",
   "execution_count": 25,
   "id": "2d179c8c",
   "metadata": {},
   "outputs": [],
   "source": [
    "# While with lists\n",
    "l1 = [1,2,3,4,5,6,7]"
   ]
  },
  {
   "cell_type": "code",
   "execution_count": 26,
   "id": "ceaa5e22",
   "metadata": {},
   "outputs": [],
   "source": [
    "i = 0\n",
    "while i<len(l1):\n",
    "    l1[i]+=100\n",
    "    i+=1"
   ]
  },
  {
   "cell_type": "code",
   "execution_count": 27,
   "id": "aa720dbe",
   "metadata": {},
   "outputs": [
    {
     "name": "stdout",
     "output_type": "stream",
     "text": [
      "[101, 102, 103, 104, 105, 106, 107]\n"
     ]
    }
   ],
   "source": [
    "print(l1)"
   ]
  },
  {
   "cell_type": "code",
   "execution_count": 31,
   "id": "30292280",
   "metadata": {},
   "outputs": [
    {
     "name": "stdout",
     "output_type": "stream",
     "text": [
      "apple\n",
      "mango\n",
      "banana\n",
      "grapes\n",
      "orange\n"
     ]
    }
   ],
   "source": [
    "# for loop\n",
    "l1 = ['apple', 'mango', 'banana','grapes','orange']\n",
    "\n",
    "for i in l1:\n",
    "    print(i)"
   ]
  },
  {
   "cell_type": "code",
   "execution_count": 32,
   "id": "53465e93",
   "metadata": {},
   "outputs": [],
   "source": [
    "l1 = ['orange', 'black', 'white']\n",
    "l2 = ['chair', 'book', 'laptop']"
   ]
  },
  {
   "cell_type": "code",
   "execution_count": 33,
   "id": "4cf37717",
   "metadata": {},
   "outputs": [
    {
     "name": "stdout",
     "output_type": "stream",
     "text": [
      "orange chair\n",
      "orange book\n",
      "orange laptop\n",
      "black chair\n",
      "black book\n",
      "black laptop\n",
      "white chair\n",
      "white book\n",
      "white laptop\n"
     ]
    }
   ],
   "source": [
    "for i in l1:\n",
    "    for j in l2:\n",
    "        print(i, j)"
   ]
  }
 ],
 "metadata": {
  "kernelspec": {
   "display_name": "Python 3 (ipykernel)",
   "language": "python",
   "name": "python3"
  },
  "language_info": {
   "codemirror_mode": {
    "name": "ipython",
    "version": 3
   },
   "file_extension": ".py",
   "mimetype": "text/x-python",
   "name": "python",
   "nbconvert_exporter": "python",
   "pygments_lexer": "ipython3",
   "version": "3.9.12"
  }
 },
 "nbformat": 4,
 "nbformat_minor": 5
}
