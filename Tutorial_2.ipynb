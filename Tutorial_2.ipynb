{
 "cells": [
  {
   "cell_type": "raw",
   "id": "dc57f7f4",
   "metadata": {},
   "source": [
    "Python Data Structures\n",
    "1. Tuple\n",
    "2. List\n",
    "3. Dictionary\n",
    "4. Set"
   ]
  },
  {
   "cell_type": "raw",
   "id": "900f159d",
   "metadata": {},
   "source": [
    "Tuple -> Tuple is an ordered collection of elements enclosed within ()\n",
    "-> Tuples are immutable\n",
    "-> In tuple you can store different values in order"
   ]
  },
  {
   "cell_type": "code",
   "execution_count": 17,
   "id": "3acced3f",
   "metadata": {},
   "outputs": [
    {
     "name": "stdout",
     "output_type": "stream",
     "text": [
      "(1, 'a', True, 3.14, (5-7j))\n",
      "<class 'tuple'>\n"
     ]
    }
   ],
   "source": [
    "tup1 = (1, 'a', True, 3.14, 5-7j)\n",
    "print(tup1)\n",
    "print(type(tup1))"
   ]
  },
  {
   "cell_type": "code",
   "execution_count": 5,
   "id": "b81ae0c7",
   "metadata": {},
   "outputs": [
    {
     "name": "stdout",
     "output_type": "stream",
     "text": [
      "1\n",
      "(5-7j)\n",
      "('a', True, 3.14)\n"
     ]
    }
   ],
   "source": [
    "# Extracting individual characters\n",
    "print(tup1[0])\n",
    "print(tup1[4])\n",
    "print(tup1[1:4])"
   ]
  },
  {
   "cell_type": "code",
   "execution_count": 6,
   "id": "afc50410",
   "metadata": {},
   "outputs": [
    {
     "ename": "TypeError",
     "evalue": "'tuple' object does not support item assignment",
     "output_type": "error",
     "traceback": [
      "\u001b[1;31m---------------------------------------------------------------------------\u001b[0m",
      "\u001b[1;31mTypeError\u001b[0m                                 Traceback (most recent call last)",
      "Input \u001b[1;32mIn [6]\u001b[0m, in \u001b[0;36m<cell line: 2>\u001b[1;34m()\u001b[0m\n\u001b[0;32m      1\u001b[0m \u001b[38;5;66;03m# Modifying a tuple\u001b[39;00m\n\u001b[1;32m----> 2\u001b[0m tup1[\u001b[38;5;241m2\u001b[39m] \u001b[38;5;241m=\u001b[39m \u001b[38;5;124m'\u001b[39m\u001b[38;5;124mhello\u001b[39m\u001b[38;5;124m'\u001b[39m\n",
      "\u001b[1;31mTypeError\u001b[0m: 'tuple' object does not support item assignment"
     ]
    }
   ],
   "source": [
    "# Modifying a tuple\n",
    "tup1[2] = 'hello' # It will show you this below type error."
   ]
  },
  {
   "cell_type": "code",
   "execution_count": 13,
   "id": "80a65cf2",
   "metadata": {},
   "outputs": [
    {
     "name": "stdout",
     "output_type": "stream",
     "text": [
      "5\n",
      "(1, 'a', True, 3.14, (5-7j), False, 'b', 3, 656.4345)\n",
      "('hii', 300, 'hii', 300, 'hii', 300)\n",
      "('hii', 300, 'hii', 300, 'hii', 300, 4, 5, 6)\n",
      "432557\n",
      "2\n"
     ]
    }
   ],
   "source": [
    "# tuple basic operations\n",
    "print(len(tup1)) # Finding the length of a tuple\n",
    "\n",
    "tup2 = (False, 'b', 3, 656.4345)\n",
    "tup3 = tup1 + tup2 # Concatenating tuples\n",
    "print(tup3)\n",
    "\n",
    "tup4 = ('hii', 300)\n",
    "print(tup4*3) # Repeating tuple elements\n",
    "\n",
    "tup5 = (4,5,6)\n",
    "print(tup4*3 + tup5) # Repeating and concatenating\n",
    "\n",
    "tup6 = (2,46,432557,35,446,3646,56765)\n",
    "print(max(tup6)) # Print Maximum value of tuple\n",
    "print(min(tup6)) # Print Minimum value of tuple"
   ]
  },
  {
   "cell_type": "raw",
   "id": "cb2b2a43",
   "metadata": {},
   "source": [
    "Python List -> List is an ordered collection of elements enclosed within []\n",
    "-> Lists are mutable"
   ]
  },
  {
   "cell_type": "code",
   "execution_count": 18,
   "id": "f700ca7e",
   "metadata": {},
   "outputs": [
    {
     "name": "stdout",
     "output_type": "stream",
     "text": [
      "[1, 'a', True, 4.64, 'deep']\n",
      "<class 'list'>\n"
     ]
    }
   ],
   "source": [
    "l1 = [1, 'a', True, 4.64, 'deep']\n",
    "print(l1)\n",
    "print(type(l1))"
   ]
  },
  {
   "cell_type": "code",
   "execution_count": 19,
   "id": "2e48c66c",
   "metadata": {},
   "outputs": [
    {
     "name": "stdout",
     "output_type": "stream",
     "text": [
      "1\n",
      "4.64\n",
      "[True, 4.64]\n"
     ]
    }
   ],
   "source": [
    "# Extracting individual elements\n",
    "print(l1[0])\n",
    "print(l1[3])\n",
    "print(l1[2:4])"
   ]
  },
  {
   "cell_type": "code",
   "execution_count": 21,
   "id": "75cff3ac",
   "metadata": {},
   "outputs": [
    {
     "name": "stdout",
     "output_type": "stream",
     "text": [
      "[100, 'a', True, 4.64, 'deep']\n"
     ]
    }
   ],
   "source": [
    "# Modifying a list\n",
    "l1[0] = 100\n",
    "print(l1)"
   ]
  },
  {
   "cell_type": "code",
   "execution_count": 26,
   "id": "9ef57495",
   "metadata": {},
   "outputs": [
    {
     "name": "stdout",
     "output_type": "stream",
     "text": [
      "[100, 'a', True]\n",
      "[100, 'a', True, 'sparta']\n"
     ]
    }
   ],
   "source": [
    "# Popping the element\n",
    "l1.pop()\n",
    "print(l1)\n",
    "\n",
    "# Appending element\n",
    "l1.append('sparta')\n",
    "print(l1)"
   ]
  },
  {
   "cell_type": "code",
   "execution_count": 33,
   "id": "628af49a",
   "metadata": {},
   "outputs": [
    {
     "name": "stdout",
     "output_type": "stream",
     "text": [
      "['sparta', True, 'a', 100]\n",
      "[1, 2, 3, 4, 5, 6, 8]\n",
      "[1, 2, 3, 74, 4, 5, 6, 8]\n"
     ]
    }
   ],
   "source": [
    "# Reversing elements of a list\n",
    "l1.reverse()\n",
    "print(l1)\n",
    "\n",
    "# Sorting a list\n",
    "l2 = [2,6,3,1,5,8,4]\n",
    "l2.sort()\n",
    "print(l2)\n",
    "\n",
    "# Insering element at a specified index\n",
    "l2.insert(3,74)\n",
    "print(l2)"
   ]
  },
  {
   "cell_type": "code",
   "execution_count": 34,
   "id": "a83955da",
   "metadata": {},
   "outputs": [
    {
     "name": "stdout",
     "output_type": "stream",
     "text": [
      "[1, 2, 3, 4, 5, 6, 7, 8]\n"
     ]
    }
   ],
   "source": [
    "# Concatenating list\n",
    "l1 = [1,2,3,4]\n",
    "l2 = [5,6,7,8]\n",
    "l3 = l1 + l2\n",
    "print(l3)"
   ]
  },
  {
   "cell_type": "code",
   "execution_count": 38,
   "id": "78c1ff61",
   "metadata": {},
   "outputs": [
    {
     "name": "stdout",
     "output_type": "stream",
     "text": [
      "[1, 2, 3, 4, 5, 6, 7, 8, 1, 2, 3, 4, 5, 6, 7, 8]\n"
     ]
    }
   ],
   "source": [
    "# Repeating elements\n",
    "print(l3*2)"
   ]
  },
  {
   "cell_type": "code",
   "execution_count": 50,
   "id": "6629de1b",
   "metadata": {},
   "outputs": [
    {
     "name": "stdout",
     "output_type": "stream",
     "text": [
      "[1, 2, 3, 4, 5, 6, 7]\n"
     ]
    }
   ],
   "source": [
    "# Removing an element\n",
    "l3.remove(8)\n",
    "print(l3)"
   ]
  },
  {
   "cell_type": "raw",
   "id": "70d948da",
   "metadata": {},
   "source": [
    "Python Dictionaries -> Dictionary is an unordered collection of key-value pairs enclosed with {}\n",
    "-> Dictionary is mutable"
   ]
  },
  {
   "cell_type": "code",
   "execution_count": 42,
   "id": "0b9ebd47",
   "metadata": {},
   "outputs": [
    {
     "name": "stdout",
     "output_type": "stream",
     "text": [
      "{'Apple': 10, 'Oranges': 20, 'Mango': 30}\n"
     ]
    },
    {
     "data": {
      "text/plain": [
       "dict"
      ]
     },
     "execution_count": 42,
     "metadata": {},
     "output_type": "execute_result"
    }
   ],
   "source": [
    "d1 = {\n",
    "    \"Apple\": 10,\n",
    "    \"Oranges\": 20,\n",
    "    \"Mango\": 30\n",
    "}\n",
    "print(d1)\n",
    "type(d1)"
   ]
  },
  {
   "cell_type": "code",
   "execution_count": 44,
   "id": "0a00bced",
   "metadata": {},
   "outputs": [
    {
     "name": "stdout",
     "output_type": "stream",
     "text": [
      "dict_keys(['Apple', 'Oranges', 'Mango'])\n",
      "dict_values([10, 20, 30])\n"
     ]
    }
   ],
   "source": [
    "# Extracting keys and values\n",
    "print(d1.keys())\n",
    "print(d1.values())"
   ]
  },
  {
   "cell_type": "code",
   "execution_count": 46,
   "id": "3198a718",
   "metadata": {},
   "outputs": [
    {
     "name": "stdout",
     "output_type": "stream",
     "text": [
      "{'Apple': 10, 'Oranges': 20, 'Mango': 30, 'Guava': 40}\n"
     ]
    }
   ],
   "source": [
    "# Adding new element\n",
    "d1['Guava'] = 40\n",
    "print(d1)"
   ]
  },
  {
   "cell_type": "code",
   "execution_count": 47,
   "id": "4f76ab43",
   "metadata": {},
   "outputs": [
    {
     "name": "stdout",
     "output_type": "stream",
     "text": [
      "{'Apple': 100, 'Oranges': 20, 'Mango': 30, 'Guava': 40}\n"
     ]
    }
   ],
   "source": [
    "# Changing existing element\n",
    "d1['Apple'] = 100\n",
    "print(d1)"
   ]
  },
  {
   "cell_type": "code",
   "execution_count": 48,
   "id": "a378e307",
   "metadata": {},
   "outputs": [
    {
     "name": "stdout",
     "output_type": "stream",
     "text": [
      "{'Apple': 10, 'Orange': 20, 'Banana': 30, 'Guava': 40}\n"
     ]
    }
   ],
   "source": [
    "# Update one dictionary's elements with another\n",
    "fruit1 = {\n",
    "    'Apple': 10,\n",
    "    'Orange': 20\n",
    "}\n",
    "\n",
    "fruit2 = {\n",
    "    'Banana': 30,\n",
    "    'Guava': 40\n",
    "}\n",
    "\n",
    "fruit1.update(fruit2)\n",
    "print(fruit1)"
   ]
  },
  {
   "cell_type": "code",
   "execution_count": 49,
   "id": "e820cca2",
   "metadata": {},
   "outputs": [
    {
     "name": "stdout",
     "output_type": "stream",
     "text": [
      "{'Apple': 10, 'Orange': 20, 'Guava': 40}\n"
     ]
    }
   ],
   "source": [
    "# Popping an element\n",
    "fruit1.pop('Banana')\n",
    "print(fruit1)"
   ]
  },
  {
   "cell_type": "raw",
   "id": "5c1e2238",
   "metadata": {},
   "source": [
    "Python set -> Set is an unordered and unindexed collection of elements elclosed within {}\n",
    "-> Duplicates are not allowed in sets"
   ]
  },
  {
   "cell_type": "code",
   "execution_count": 57,
   "id": "e9a2ca3d",
   "metadata": {},
   "outputs": [
    {
     "name": "stdout",
     "output_type": "stream",
     "text": [
      "{56, 1, 'deep'}\n",
      "<class 'set'>\n"
     ]
    }
   ],
   "source": [
    "s1 = {1, 56, 'deep'}\n",
    "print(s1)\n",
    "print(type(s1))"
   ]
  },
  {
   "cell_type": "code",
   "execution_count": 58,
   "id": "9e86e37e",
   "metadata": {},
   "outputs": [
    {
     "name": "stdout",
     "output_type": "stream",
     "text": [
      "{False, 1, 2, 'a', 'b'}\n",
      "{False, 1, 2, 'a', 'hello', 'b'}\n"
     ]
    }
   ],
   "source": [
    "# Update one dictionary's elements with another\n",
    "s1 = {1, 'a', True, 2, 'b', False}\n",
    "print(s1)\n",
    "\n",
    "s1.add('hello')\n",
    "print(s1)"
   ]
  },
  {
   "cell_type": "code",
   "execution_count": 59,
   "id": "26d67f9c",
   "metadata": {},
   "outputs": [
    {
     "name": "stdout",
     "output_type": "stream",
     "text": [
      "{False, 1, 2, 'a', 'hello'}\n"
     ]
    }
   ],
   "source": [
    "# Removing an element\n",
    "s1.remove('b')\n",
    "print(s1)"
   ]
  },
  {
   "cell_type": "code",
   "execution_count": 60,
   "id": "672e1476",
   "metadata": {},
   "outputs": [
    {
     "name": "stdout",
     "output_type": "stream",
     "text": [
      "{False, 1, 2, 10, 20, 30, 'hello', 'a'}\n"
     ]
    }
   ],
   "source": [
    "# Updating multiple elements\n",
    "s1.update([10,20,30])\n",
    "print(s1)"
   ]
  },
  {
   "cell_type": "code",
   "execution_count": 65,
   "id": "60caeb71",
   "metadata": {},
   "outputs": [
    {
     "name": "stdout",
     "output_type": "stream",
     "text": [
      "{20, 30, 'hello', 'a'}\n"
     ]
    }
   ],
   "source": [
    "# Popping an element\n",
    "s1.pop()\n",
    "print(s1)"
   ]
  },
  {
   "cell_type": "code",
   "execution_count": 70,
   "id": "20cfad4c",
   "metadata": {},
   "outputs": [
    {
     "name": "stdout",
     "output_type": "stream",
     "text": [
      "{1, 2, 3, 4, 5, 6, 7, 8}\n",
      "{4, 5}\n",
      "{1, 2, 3}\n"
     ]
    }
   ],
   "source": [
    "# Union, Intersection and Difference of sets\n",
    "s2 = {1,2,3,4,5}\n",
    "s3 = {4,5,6,7,8}\n",
    "\n",
    "s4 = s2.union(s3)\n",
    "print(s4)\n",
    "\n",
    "s5 = s2.intersection(s3)\n",
    "print(s5)\n",
    "\n",
    "s6 = s2.difference(s3)\n",
    "print(s6)"
   ]
  }
 ],
 "metadata": {
  "kernelspec": {
   "display_name": "Python 3 (ipykernel)",
   "language": "python",
   "name": "python3"
  },
  "language_info": {
   "codemirror_mode": {
    "name": "ipython",
    "version": 3
   },
   "file_extension": ".py",
   "mimetype": "text/x-python",
   "name": "python",
   "nbconvert_exporter": "python",
   "pygments_lexer": "ipython3",
   "version": "3.9.12"
  }
 },
 "nbformat": 4,
 "nbformat_minor": 5
}
