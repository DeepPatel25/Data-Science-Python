{
 "cells": [
  {
   "cell_type": "markdown",
   "id": "7c405ee0",
   "metadata": {},
   "source": [
    "Inheritance in python => With inheritance one class can derive the properties of another class.\n",
    "Ex. Man inheriting the features from his father."
   ]
  },
  {
   "cell_type": "code",
   "execution_count": 36,
   "id": "7cf5221d",
   "metadata": {},
   "outputs": [],
   "source": [
    "# Inheritance Example\n",
    "# Base class\n",
    "# Simple Inheritance\n",
    "class Vehicle:\n",
    "    def __init__(self, mileage, cost):\n",
    "        self.mileage = mileage\n",
    "        self.cost = cost\n",
    "    \n",
    "    def show_details(self):\n",
    "        print('I am a Vehicle')\n",
    "        print('Mileage of vehicle is', self.mileage)\n",
    "        print('Cost of vehicle is', self.cost)"
   ]
  },
  {
   "cell_type": "code",
   "execution_count": 13,
   "id": "61208111",
   "metadata": {},
   "outputs": [
    {
     "name": "stdout",
     "output_type": "stream",
     "text": [
      "I am a Vehicle\n",
      "Mileage of vehicle is 500\n",
      "Cost of vehicle is 10000\n"
     ]
    }
   ],
   "source": [
    "v1 = Vehicle(500,10000)\n",
    "v1.show_details()"
   ]
  },
  {
   "cell_type": "code",
   "execution_count": 20,
   "id": "112421dd",
   "metadata": {},
   "outputs": [],
   "source": [
    "# Child class\n",
    "class Car(Vehicle):\n",
    "    # Overriding init method\n",
    "    def __init__(self, mileage, cost, tyres, hp):\n",
    "        super().__init__(mileage, cost)\n",
    "        self.tyres = tyres\n",
    "        self.hp = hp\n",
    "    \n",
    "    def show_car(self):\n",
    "        print('I am a car')\n",
    "        print('Number of tyres are', self.tyres)\n",
    "        print('Value of horse power is', self.hp)"
   ]
  },
  {
   "cell_type": "code",
   "execution_count": 21,
   "id": "ebb1e056",
   "metadata": {
    "scrolled": true
   },
   "outputs": [
    {
     "name": "stdout",
     "output_type": "stream",
     "text": [
      "I am a Vehicle\n",
      "Mileage of vehicle is 100\n",
      "Cost of vehicle is 100\n",
      "I am a car\n",
      "Number of tyres are 4\n",
      "Value of horse power is 700\n"
     ]
    }
   ],
   "source": [
    "c1 = Car(100, 100, 4, 700)\n",
    "c1.show_details()\n",
    "c1.show_car()"
   ]
  },
  {
   "cell_type": "markdown",
   "id": "ffb570be",
   "metadata": {},
   "source": [
    "Types of Inheritance in Python\n",
    "1. Simple Inheritance\n",
    "2. Multiple Inheritance - In multiple inheritance, child inherits from more than 1 parent class.\n",
    "3. Multi-Level Inheritance\n",
    "4. Hybrid Inheritance"
   ]
  },
  {
   "cell_type": "code",
   "execution_count": 30,
   "id": "113e031f",
   "metadata": {},
   "outputs": [],
   "source": [
    "# Multiple Inheritance\n",
    "class Parent1:\n",
    "    def assign_string_one(self,str1):\n",
    "        self.str1 = str1\n",
    "        \n",
    "    def show_string_one(self):\n",
    "        return self.str1\n",
    "\n",
    "class Parent2:\n",
    "    def assign_string_two(self,str2):\n",
    "        self.str2 = str2\n",
    "    \n",
    "    def show_string_two(self):\n",
    "        return self.str2\n",
    "    \n",
    "class Derived(Parent1, Parent2):\n",
    "    def assign_string_three(self,str3):\n",
    "        self.str3 = str3\n",
    "    \n",
    "    def show_string_three(self):\n",
    "        return self.str3"
   ]
  },
  {
   "cell_type": "code",
   "execution_count": 33,
   "id": "b75819cd",
   "metadata": {},
   "outputs": [],
   "source": [
    "d1 = Derived()\n",
    "d1.assign_string_one('one')\n",
    "d1.assign_string_two('two')\n",
    "d1.assign_string_three('three')"
   ]
  },
  {
   "cell_type": "code",
   "execution_count": 34,
   "id": "78d08373",
   "metadata": {},
   "outputs": [
    {
     "name": "stdout",
     "output_type": "stream",
     "text": [
      "one two three\n"
     ]
    }
   ],
   "source": [
    "print(d1.show_string_one(), d1.show_string_two(), d1.show_string_three())"
   ]
  },
  {
   "cell_type": "markdown",
   "id": "1b212467",
   "metadata": {},
   "source": [
    "MultiLevel Inheritance -> In multi-level inheritance, we have parent, child, grand-child relationship."
   ]
  },
  {
   "cell_type": "code",
   "execution_count": 35,
   "id": "143e2c01",
   "metadata": {},
   "outputs": [],
   "source": [
    "# Multi-level Inheritance\n",
    "class Parent:\n",
    "    def assign_name(self, name):\n",
    "        self.name = name\n",
    "        \n",
    "    def show_name(self):\n",
    "        return self.name\n",
    "\n",
    "class Child(Parent):\n",
    "    def assign_age(self, age):\n",
    "        self.age = age\n",
    "\n",
    "    def show_age(self):\n",
    "        return self.age\n",
    "    \n",
    "class GrandChild(Child):\n",
    "    def assign_gender(self, gender):\n",
    "        self.gender = gender\n",
    "    \n",
    "    def show_gender(self):\n",
    "        return self.gender"
   ]
  },
  {
   "cell_type": "code",
   "execution_count": 37,
   "id": "2cfac5ab",
   "metadata": {},
   "outputs": [],
   "source": [
    "g1 = GrandChild()\n",
    "g1.assign_name('Janvi')\n",
    "g1.assign_age(19)\n",
    "g1.assign_gender('Female')"
   ]
  },
  {
   "cell_type": "code",
   "execution_count": 39,
   "id": "451f8300",
   "metadata": {},
   "outputs": [
    {
     "name": "stdout",
     "output_type": "stream",
     "text": [
      "Janvi 19 Female\n"
     ]
    }
   ],
   "source": [
    "print(g1.show_name(), g1.show_age(), g1.show_gender())"
   ]
  }
 ],
 "metadata": {
  "kernelspec": {
   "display_name": "Python 3 (ipykernel)",
   "language": "python",
   "name": "python3"
  },
  "language_info": {
   "codemirror_mode": {
    "name": "ipython",
    "version": 3
   },
   "file_extension": ".py",
   "mimetype": "text/x-python",
   "name": "python",
   "nbconvert_exporter": "python",
   "pygments_lexer": "ipython3",
   "version": "3.9.12"
  }
 },
 "nbformat": 4,
 "nbformat_minor": 5
}
