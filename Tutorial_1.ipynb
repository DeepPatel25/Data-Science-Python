{
 "cells": [
  {
   "cell_type": "raw",
   "id": "1c818f15",
   "metadata": {},
   "source": [
    "print() function is used to print the data which was in the braces."
   ]
  },
  {
   "cell_type": "code",
   "execution_count": 4,
   "id": "a9a0b11f",
   "metadata": {},
   "outputs": [
    {
     "name": "stdout",
     "output_type": "stream",
     "text": [
      "Hello World\n"
     ]
    }
   ],
   "source": [
    "print(\"Hello World\")"
   ]
  },
  {
   "cell_type": "raw",
   "id": "74b0d012",
   "metadata": {},
   "source": [
    "Variable is used to store data."
   ]
  },
  {
   "cell_type": "code",
   "execution_count": 7,
   "id": "bbd6aaa2",
   "metadata": {},
   "outputs": [],
   "source": [
    "student = 'sam'\n",
    "print(student)"
   ]
  },
  {
   "cell_type": "code",
   "execution_count": 10,
   "id": "188d157b",
   "metadata": {},
   "outputs": [],
   "source": [
    "student = 'deep'\n",
    "print(student)"
   ]
  },
  {
   "cell_type": "raw",
   "id": "34538fe7",
   "metadata": {},
   "source": [
    "There are 4 data types in python.\n",
    "1. int\n",
    "2. float\n",
    "3. boolean\n",
    "4. string"
   ]
  },
  {
   "cell_type": "code",
   "execution_count": 12,
   "id": "e04ce2eb",
   "metadata": {},
   "outputs": [
    {
     "name": "stdout",
     "output_type": "stream",
     "text": [
      "10\n"
     ]
    }
   ],
   "source": [
    "a1 = 10\n",
    "print(a1)"
   ]
  },
  {
   "cell_type": "code",
   "execution_count": 14,
   "id": "2e8f6c58",
   "metadata": {
    "scrolled": true
   },
   "outputs": [
    {
     "data": {
      "text/plain": [
       "int"
      ]
     },
     "execution_count": 14,
     "metadata": {},
     "output_type": "execute_result"
    }
   ],
   "source": [
    "type(a1)"
   ]
  },
  {
   "cell_type": "code",
   "execution_count": 15,
   "id": "db323c9a",
   "metadata": {},
   "outputs": [
    {
     "data": {
      "text/plain": [
       "float"
      ]
     },
     "execution_count": 15,
     "metadata": {},
     "output_type": "execute_result"
    }
   ],
   "source": [
    "a1 = 3.24\n",
    "type(a1)"
   ]
  },
  {
   "cell_type": "code",
   "execution_count": 17,
   "id": "2534a648",
   "metadata": {},
   "outputs": [
    {
     "name": "stdout",
     "output_type": "stream",
     "text": [
      "True\n"
     ]
    },
    {
     "data": {
      "text/plain": [
       "bool"
      ]
     },
     "execution_count": 17,
     "metadata": {},
     "output_type": "execute_result"
    }
   ],
   "source": [
    "a1 = True\n",
    "print(a1)\n",
    "type(a1)"
   ]
  },
  {
   "cell_type": "code",
   "execution_count": 18,
   "id": "ccb0c4bf",
   "metadata": {},
   "outputs": [
    {
     "name": "stdout",
     "output_type": "stream",
     "text": [
      "Hello World\n"
     ]
    },
    {
     "data": {
      "text/plain": [
       "str"
      ]
     },
     "execution_count": 18,
     "metadata": {},
     "output_type": "execute_result"
    }
   ],
   "source": [
    "a1 = \"Hello World\"\n",
    "print(a1)\n",
    "type(a1)"
   ]
  },
  {
   "cell_type": "code",
   "execution_count": 19,
   "id": "d19f79f4",
   "metadata": {},
   "outputs": [
    {
     "name": "stdout",
     "output_type": "stream",
     "text": [
      "(3+4j)\n"
     ]
    },
    {
     "data": {
      "text/plain": [
       "complex"
      ]
     },
     "execution_count": 19,
     "metadata": {},
     "output_type": "execute_result"
    }
   ],
   "source": [
    "a1 = 3+4j\n",
    "print(a1)\n",
    "type(a1)"
   ]
  },
  {
   "cell_type": "raw",
   "id": "ce8bfc66",
   "metadata": {},
   "source": [
    "Operaters in python\n",
    "1. Relational Operators => <,>,<=,>=,==,!=\n",
    "2. Arithmetic Operators => +,-,*,/\n",
    "3. Logical Operators => and, or, not"
   ]
  },
  {
   "cell_type": "code",
   "execution_count": 23,
   "id": "696996ff",
   "metadata": {},
   "outputs": [
    {
     "name": "stdout",
     "output_type": "stream",
     "text": [
      "10 20\n",
      "30\n",
      "-10\n",
      "200\n",
      "0.5\n"
     ]
    }
   ],
   "source": [
    "# Arithmetic Operator\n",
    "a = 10\n",
    "b = 20\n",
    "print(a,b)\n",
    "print(a+b)\n",
    "print(a-b)\n",
    "print(a*b)\n",
    "print(a/b)"
   ]
  },
  {
   "cell_type": "code",
   "execution_count": 24,
   "id": "7e97b7b6",
   "metadata": {},
   "outputs": [
    {
     "name": "stdout",
     "output_type": "stream",
     "text": [
      "False\n"
     ]
    }
   ],
   "source": [
    "# Relational Operator\n",
    "a = 50\n",
    "b = 100\n",
    "print(a>b)\n",
    "print(a<b)"
   ]
  },
  {
   "cell_type": "code",
   "execution_count": 29,
   "id": "ecc5f8e7",
   "metadata": {},
   "outputs": [
    {
     "name": "stdout",
     "output_type": "stream",
     "text": [
      "False\n",
      "True\n"
     ]
    }
   ],
   "source": [
    "print(a==b)\n",
    "print(a!=b)"
   ]
  },
  {
   "cell_type": "code",
   "execution_count": 28,
   "id": "6ec99ac6",
   "metadata": {},
   "outputs": [
    {
     "name": "stdout",
     "output_type": "stream",
     "text": [
      "True\n",
      "False\n"
     ]
    }
   ],
   "source": [
    "print(a<=b)\n",
    "print(a>=b)"
   ]
  },
  {
   "cell_type": "code",
   "execution_count": 33,
   "id": "0af0ffb0",
   "metadata": {},
   "outputs": [],
   "source": [
    "# Logical Operator\n",
    "a = True\n",
    "b = False"
   ]
  },
  {
   "cell_type": "code",
   "execution_count": 34,
   "id": "0a0191ea",
   "metadata": {},
   "outputs": [
    {
     "name": "stdout",
     "output_type": "stream",
     "text": [
      "False\n",
      "True\n",
      "False\n",
      "True\n"
     ]
    }
   ],
   "source": [
    "print(a and b)\n",
    "print(a or b)\n",
    "print(not a)\n",
    "print(not b)"
   ]
  },
  {
   "cell_type": "raw",
   "id": "abf31385",
   "metadata": {},
   "source": [
    "# This Symbol is used for comment purpose"
   ]
  },
  {
   "cell_type": "code",
   "execution_count": 21,
   "id": "8e056f43",
   "metadata": {},
   "outputs": [],
   "source": [
    "# comment"
   ]
  },
  {
   "cell_type": "raw",
   "id": "211b0e0c",
   "metadata": {},
   "source": [
    "Python Tokens => Smallest meaningful componenet in a program\n",
    "-> Keywords\n",
    "-> Identifiers\n",
    "-> Literals\n",
    "-> Operators"
   ]
  },
  {
   "cell_type": "raw",
   "id": "5c0b22ff",
   "metadata": {},
   "source": [
    "Python Keywords -> Keywords are special reserved words\n",
    "Ex. False, None, True, and, as, class, continue, def, del, elif, finally, for, from, global, if, is, lambda, nonlocal, not, or, return, try, while, with, yield"
   ]
  },
  {
   "cell_type": "raw",
   "id": "96ae1908",
   "metadata": {},
   "source": [
    "Python Identifiers -> Identifiers are names used for variables, functions, or objects.\n",
    "\n",
    "Rules -> No special character expect _(underscore)\n",
    "-> Identifiers are case sensitive\n",
    "-> First Letter cannot be a digit"
   ]
  },
  {
   "cell_type": "raw",
   "id": "bbacb6df",
   "metadata": {},
   "source": [
    "Python Literals -> Literals are constants in python"
   ]
  },
  {
   "cell_type": "raw",
   "id": "7a88d04a",
   "metadata": {},
   "source": [
    "Python String -> Strings are sequence of characters enclosed within single quotes(' '), double quotes(\" \") or triple quotes(''' ''')\n",
    "\n",
    "Ex. 'Hello World', \"This is sparta\", \"\"\"I am going to france.\"\"\""
   ]
  },
  {
   "cell_type": "code",
   "execution_count": 46,
   "id": "327b1a3c",
   "metadata": {},
   "outputs": [
    {
     "name": "stdout",
     "output_type": "stream",
     "text": [
      "H\n",
      ".\n",
      "my name is deep\n",
      "m aei ep\n",
      "21\n",
      "hiii my name is deep.\n",
      "HIII MY NAME IS DEEP.\n",
      "Hiii my name is janvi.\n",
      "4\n",
      "16\n",
      "['Hiii', 'my', 'name', 'is', 'deep.']\n"
     ]
    }
   ],
   "source": [
    "# String methods\n",
    "my_str = \"Hiii my name is deep.\"\n",
    "print(my_str[0]) # print 0 index value\n",
    "print(my_str[-1]) # print last index value\n",
    "print(my_str[5:20]) # print from index 5 to 20.\n",
    "print(my_str[5:20:2]) # print from index 5 to 20 but it will skip one character because we give 2 after that last :\n",
    "print(len(my_str)) # Finding length of the string\n",
    "print(my_str.lower()) # converting string to lowercase\n",
    "print(my_str.upper()) # converting string to uppercase\n",
    "print(my_str.replace(\"deep\", \"janvi\")) # Replace deep name with janvi in string\n",
    "print(my_str.count(\"i\")) # counts the value which was given by user in string.\n",
    "print(my_str.find('deep')) # finds the starting index value of deep.\n",
    "print(my_str.split(' ')) # split the string by spaces( )"
   ]
  }
 ],
 "metadata": {
  "kernelspec": {
   "display_name": "Python 3 (ipykernel)",
   "language": "python",
   "name": "python3"
  },
  "language_info": {
   "codemirror_mode": {
    "name": "ipython",
    "version": 3
   },
   "file_extension": ".py",
   "mimetype": "text/x-python",
   "name": "python",
   "nbconvert_exporter": "python",
   "pygments_lexer": "ipython3",
   "version": "3.9.12"
  }
 },
 "nbformat": 4,
 "nbformat_minor": 5
}
